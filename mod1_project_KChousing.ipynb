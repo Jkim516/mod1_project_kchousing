{
 "cells": [
  {
   "cell_type": "code",
   "execution_count": 1,
   "metadata": {},
   "outputs": [
    {
     "name": "stdout",
     "output_type": "stream",
     "text": [
      "/Users/flatiron/Flatiron/3week/mod-1-project/mod1_project_kchousing\r\n"
     ]
    }
   ],
   "source": [
    "!pwd"
   ]
  },
  {
   "cell_type": "code",
   "execution_count": 40,
   "metadata": {},
   "outputs": [
    {
     "name": "stdout",
     "output_type": "stream",
     "text": [
      "\u001b[34mmod-1-project\u001b[m\u001b[m\n",
      "\u001b[34mmodule-1-code-challenge-round-1-seattle-ds-062419-dsc-module-1-assessment-1562605232\u001b[m\u001b[m\n"
     ]
    }
   ],
   "source": [
    "!ls"
   ]
  },
  {
   "cell_type": "code",
   "execution_count": 43,
   "metadata": {},
   "outputs": [
    {
     "name": "stdout",
     "output_type": "stream",
     "text": [
      "/Users/flatiron/Flatiron/3week/mod-1-project/mod1_project_kchousing\n"
     ]
    }
   ],
   "source": [
    "cd mod1_project_kchousing/"
   ]
  },
  {
   "cell_type": "code",
   "execution_count": 2,
   "metadata": {},
   "outputs": [
    {
     "name": "stdout",
     "output_type": "stream",
     "text": [
      "\u001b[31mEXTR_ResBldg.txt\u001b[m\u001b[m             README.md\r\n",
      "\u001b[31mExtr_RPSale.txt\u001b[m\u001b[m              mod1_project_KChousing.ipynb\r\n",
      "LICENSE\r\n"
     ]
    }
   ],
   "source": [
    "!ls"
   ]
  },
  {
   "cell_type": "code",
   "execution_count": 3,
   "metadata": {},
   "outputs": [
    {
     "name": "stderr",
     "output_type": "stream",
     "text": [
      "/anaconda3/envs/learn-env/lib/python3.7/site-packages/IPython/core/interactiveshell.py:2785: DtypeWarning: Columns (0,1,2) have mixed types. Specify dtype option on import or set low_memory=False.\n",
      "  interactivity=interactivity, compiler=compiler, result=result)\n"
     ]
    }
   ],
   "source": [
    "import pandas as pd\n",
    "\n",
    "sales_df = pd.read_csv('Extr_RPSale.txt', sep='\\t', lineterminator='\\r')\n",
    "# bldg_df =pd.read_csv('EXTR_ResBldg.txt', sep='\\t', lineterminator='\\r')  \n"
   ]
  },
  {
   "cell_type": "code",
   "execution_count": 4,
   "metadata": {},
   "outputs": [
    {
     "data": {
      "text/plain": [
       "(2033421, 24)"
      ]
     },
     "execution_count": 4,
     "metadata": {},
     "output_type": "execute_result"
    }
   ],
   "source": [
    "sales_df.shape"
   ]
  },
  {
   "cell_type": "code",
   "execution_count": 5,
   "metadata": {},
   "outputs": [
    {
     "data": {
      "text/plain": [
       "PlatNbr               1\n",
       "RecordingNbr          1\n",
       "Minor                 1\n",
       "SellerName            1\n",
       "Volume                1\n",
       "SaleInstrument        1\n",
       "Page                  1\n",
       "SaleWarning           1\n",
       "DocumentDate          1\n",
       "PlatType              1\n",
       "SaleReason            1\n",
       "PrincipalUse          1\n",
       "PropertyClass         1\n",
       "SalePrice             1\n",
       "PropertyType          1\n",
       "AFForestLand          1\n",
       "Major                 1\n",
       "AFCurrentUseLand      1\n",
       "AFNonProfitUse        1\n",
       "ExciseTaxNbr          1\n",
       "AFHistoricProperty    1\n",
       "PlatBlock             1\n",
       "BuyerName             1\n",
       "PlatLot               1\n",
       "dtype: int64"
      ]
     },
     "execution_count": 5,
     "metadata": {},
     "output_type": "execute_result"
    }
   ],
   "source": [
    "sales_df.columns.value_counts()"
   ]
  },
  {
   "cell_type": "code",
   "execution_count": 50,
   "metadata": {},
   "outputs": [
    {
     "data": {
      "text/plain": [
       "(512549, 50)"
      ]
     },
     "execution_count": 50,
     "metadata": {},
     "output_type": "execute_result"
    }
   ],
   "source": [
    "bldg_df.shape"
   ]
  },
  {
   "cell_type": "code",
   "execution_count": 6,
   "metadata": {},
   "outputs": [
    {
     "data": {
      "text/html": [
       "<div>\n",
       "<style scoped>\n",
       "    .dataframe tbody tr th:only-of-type {\n",
       "        vertical-align: middle;\n",
       "    }\n",
       "\n",
       "    .dataframe tbody tr th {\n",
       "        vertical-align: top;\n",
       "    }\n",
       "\n",
       "    .dataframe thead th {\n",
       "        text-align: right;\n",
       "    }\n",
       "</style>\n",
       "<table border=\"1\" class=\"dataframe\">\n",
       "  <thead>\n",
       "    <tr style=\"text-align: right;\">\n",
       "      <th></th>\n",
       "      <th>0</th>\n",
       "      <th>1</th>\n",
       "      <th>2</th>\n",
       "      <th>3</th>\n",
       "      <th>4</th>\n",
       "    </tr>\n",
       "  </thead>\n",
       "  <tbody>\n",
       "    <tr>\n",
       "      <th>ExciseTaxNbr</th>\n",
       "      <td>2642952</td>\n",
       "      <td>1381073</td>\n",
       "      <td>2496482</td>\n",
       "      <td>1970507</td>\n",
       "      <td>1701215</td>\n",
       "    </tr>\n",
       "    <tr>\n",
       "      <th>Major</th>\n",
       "      <td>720319</td>\n",
       "      <td>154580</td>\n",
       "      <td>356730</td>\n",
       "      <td>252505</td>\n",
       "      <td>235930</td>\n",
       "    </tr>\n",
       "    <tr>\n",
       "      <th>Minor</th>\n",
       "      <td>520</td>\n",
       "      <td>1220</td>\n",
       "      <td>45</td>\n",
       "      <td>9206</td>\n",
       "      <td>72</td>\n",
       "    </tr>\n",
       "    <tr>\n",
       "      <th>DocumentDate</th>\n",
       "      <td>11/20/2013</td>\n",
       "      <td>06/16/1994</td>\n",
       "      <td>06/09/2011</td>\n",
       "      <td>06/25/2003</td>\n",
       "      <td>07/08/1999</td>\n",
       "    </tr>\n",
       "    <tr>\n",
       "      <th>SalePrice</th>\n",
       "      <td>699950</td>\n",
       "      <td>125000</td>\n",
       "      <td>542200</td>\n",
       "      <td>443000</td>\n",
       "      <td>225000</td>\n",
       "    </tr>\n",
       "    <tr>\n",
       "      <th>RecordingNbr</th>\n",
       "      <td>20131126001594</td>\n",
       "      <td>199406211626</td>\n",
       "      <td>20110617001045</td>\n",
       "      <td>20030702002332</td>\n",
       "      <td>19990730000822</td>\n",
       "    </tr>\n",
       "    <tr>\n",
       "      <th>Volume</th>\n",
       "      <td></td>\n",
       "      <td>089</td>\n",
       "      <td></td>\n",
       "      <td></td>\n",
       "      <td></td>\n",
       "    </tr>\n",
       "    <tr>\n",
       "      <th>Page</th>\n",
       "      <td></td>\n",
       "      <td>011</td>\n",
       "      <td></td>\n",
       "      <td></td>\n",
       "      <td></td>\n",
       "    </tr>\n",
       "    <tr>\n",
       "      <th>PlatNbr</th>\n",
       "      <td></td>\n",
       "      <td>154580</td>\n",
       "      <td></td>\n",
       "      <td></td>\n",
       "      <td></td>\n",
       "    </tr>\n",
       "    <tr>\n",
       "      <th>PlatType</th>\n",
       "      <td></td>\n",
       "      <td>P</td>\n",
       "      <td></td>\n",
       "      <td></td>\n",
       "      <td></td>\n",
       "    </tr>\n",
       "    <tr>\n",
       "      <th>PlatLot</th>\n",
       "      <td></td>\n",
       "      <td>7</td>\n",
       "      <td></td>\n",
       "      <td></td>\n",
       "      <td></td>\n",
       "    </tr>\n",
       "    <tr>\n",
       "      <th>PlatBlock</th>\n",
       "      <td></td>\n",
       "      <td>9</td>\n",
       "      <td></td>\n",
       "      <td></td>\n",
       "      <td></td>\n",
       "    </tr>\n",
       "    <tr>\n",
       "      <th>SellerName</th>\n",
       "      <td>EAST RIDGE HOMES L L C                        ...</td>\n",
       "      <td>WEAVER SUSAN E                                ...</td>\n",
       "      <td>DARCY ERIC H+SAXTON ANN M                     ...</td>\n",
       "      <td>DOLPHIN HOMES INC                             ...</td>\n",
       "      <td>LACALLI THURSTON CASTLE ET AL                 ...</td>\n",
       "    </tr>\n",
       "    <tr>\n",
       "      <th>BuyerName</th>\n",
       "      <td>SAVASERE ASHOKA+ASHWINI                       ...</td>\n",
       "      <td>CLAUSMEYER WILLIAM A+PAMELA H                 ...</td>\n",
       "      <td>GERSHON JOEL S+ILEENE S                       ...</td>\n",
       "      <td>GUMM TERAH J                                  ...</td>\n",
       "      <td>DONNEN JAMES W                                ...</td>\n",
       "    </tr>\n",
       "    <tr>\n",
       "      <th>PropertyType</th>\n",
       "      <td>2</td>\n",
       "      <td>3</td>\n",
       "      <td>3</td>\n",
       "      <td>3</td>\n",
       "      <td>3</td>\n",
       "    </tr>\n",
       "    <tr>\n",
       "      <th>PrincipalUse</th>\n",
       "      <td>6</td>\n",
       "      <td>6</td>\n",
       "      <td>6</td>\n",
       "      <td>6</td>\n",
       "      <td>6</td>\n",
       "    </tr>\n",
       "    <tr>\n",
       "      <th>SaleInstrument</th>\n",
       "      <td>3</td>\n",
       "      <td>2</td>\n",
       "      <td>3</td>\n",
       "      <td>3</td>\n",
       "      <td>3</td>\n",
       "    </tr>\n",
       "    <tr>\n",
       "      <th>AFForestLand</th>\n",
       "      <td>N</td>\n",
       "      <td>N</td>\n",
       "      <td></td>\n",
       "      <td>N</td>\n",
       "      <td>N</td>\n",
       "    </tr>\n",
       "    <tr>\n",
       "      <th>AFCurrentUseLand</th>\n",
       "      <td>N</td>\n",
       "      <td>N</td>\n",
       "      <td></td>\n",
       "      <td>N</td>\n",
       "      <td>N</td>\n",
       "    </tr>\n",
       "    <tr>\n",
       "      <th>AFNonProfitUse</th>\n",
       "      <td>N</td>\n",
       "      <td>N</td>\n",
       "      <td></td>\n",
       "      <td>N</td>\n",
       "      <td>N</td>\n",
       "    </tr>\n",
       "    <tr>\n",
       "      <th>AFHistoricProperty</th>\n",
       "      <td>N</td>\n",
       "      <td>N</td>\n",
       "      <td></td>\n",
       "      <td>N</td>\n",
       "      <td>N</td>\n",
       "    </tr>\n",
       "    <tr>\n",
       "      <th>SaleReason</th>\n",
       "      <td>1</td>\n",
       "      <td>1</td>\n",
       "      <td>1</td>\n",
       "      <td>1</td>\n",
       "      <td>1</td>\n",
       "    </tr>\n",
       "    <tr>\n",
       "      <th>PropertyClass</th>\n",
       "      <td>8</td>\n",
       "      <td>8</td>\n",
       "      <td>8</td>\n",
       "      <td>8</td>\n",
       "      <td>8</td>\n",
       "    </tr>\n",
       "    <tr>\n",
       "      <th>SaleWarning</th>\n",
       "      <td></td>\n",
       "      <td></td>\n",
       "      <td></td>\n",
       "      <td></td>\n",
       "      <td></td>\n",
       "    </tr>\n",
       "  </tbody>\n",
       "</table>\n",
       "</div>"
      ],
      "text/plain": [
       "                                                                    0  \\\n",
       "ExciseTaxNbr                                                  2642952   \n",
       "Major                                                          720319   \n",
       "Minor                                                             520   \n",
       "DocumentDate                                               11/20/2013   \n",
       "SalePrice                                                      699950   \n",
       "RecordingNbr                                           20131126001594   \n",
       "Volume                                                                  \n",
       "Page                                                                    \n",
       "PlatNbr                                                                 \n",
       "PlatType                                                                \n",
       "PlatLot                                                                 \n",
       "PlatBlock                                                               \n",
       "SellerName          EAST RIDGE HOMES L L C                        ...   \n",
       "BuyerName           SAVASERE ASHOKA+ASHWINI                       ...   \n",
       "PropertyType                                                        2   \n",
       "PrincipalUse                                                        6   \n",
       "SaleInstrument                                                      3   \n",
       "AFForestLand                                                        N   \n",
       "AFCurrentUseLand                                                    N   \n",
       "AFNonProfitUse                                                      N   \n",
       "AFHistoricProperty                                                  N   \n",
       "SaleReason                                                          1   \n",
       "PropertyClass                                                       8   \n",
       "SaleWarning                                                             \n",
       "\n",
       "                                                                    1  \\\n",
       "ExciseTaxNbr                                                  1381073   \n",
       "Major                                                          154580   \n",
       "Minor                                                            1220   \n",
       "DocumentDate                                               06/16/1994   \n",
       "SalePrice                                                      125000   \n",
       "RecordingNbr                                           199406211626     \n",
       "Volume                                                            089   \n",
       "Page                                                              011   \n",
       "PlatNbr                                                        154580   \n",
       "PlatType                                                            P   \n",
       "PlatLot                                                7                \n",
       "PlatBlock                                                     9         \n",
       "SellerName          WEAVER SUSAN E                                ...   \n",
       "BuyerName           CLAUSMEYER WILLIAM A+PAMELA H                 ...   \n",
       "PropertyType                                                        3   \n",
       "PrincipalUse                                                        6   \n",
       "SaleInstrument                                                      2   \n",
       "AFForestLand                                                        N   \n",
       "AFCurrentUseLand                                                    N   \n",
       "AFNonProfitUse                                                      N   \n",
       "AFHistoricProperty                                                  N   \n",
       "SaleReason                                                          1   \n",
       "PropertyClass                                                       8   \n",
       "SaleWarning                                                             \n",
       "\n",
       "                                                                    2  \\\n",
       "ExciseTaxNbr                                                  2496482   \n",
       "Major                                                          356730   \n",
       "Minor                                                              45   \n",
       "DocumentDate                                               06/09/2011   \n",
       "SalePrice                                                      542200   \n",
       "RecordingNbr                                           20110617001045   \n",
       "Volume                                                                  \n",
       "Page                                                                    \n",
       "PlatNbr                                                                 \n",
       "PlatType                                                                \n",
       "PlatLot                                                                 \n",
       "PlatBlock                                                               \n",
       "SellerName          DARCY ERIC H+SAXTON ANN M                     ...   \n",
       "BuyerName           GERSHON JOEL S+ILEENE S                       ...   \n",
       "PropertyType                                                        3   \n",
       "PrincipalUse                                                        6   \n",
       "SaleInstrument                                                      3   \n",
       "AFForestLand                                                            \n",
       "AFCurrentUseLand                                                        \n",
       "AFNonProfitUse                                                          \n",
       "AFHistoricProperty                                                      \n",
       "SaleReason                                                          1   \n",
       "PropertyClass                                                       8   \n",
       "SaleWarning                                                             \n",
       "\n",
       "                                                                    3  \\\n",
       "ExciseTaxNbr                                                  1970507   \n",
       "Major                                                          252505   \n",
       "Minor                                                            9206   \n",
       "DocumentDate                                               06/25/2003   \n",
       "SalePrice                                                      443000   \n",
       "RecordingNbr                                           20030702002332   \n",
       "Volume                                                                  \n",
       "Page                                                                    \n",
       "PlatNbr                                                                 \n",
       "PlatType                                                                \n",
       "PlatLot                                                                 \n",
       "PlatBlock                                                               \n",
       "SellerName          DOLPHIN HOMES INC                             ...   \n",
       "BuyerName           GUMM TERAH J                                  ...   \n",
       "PropertyType                                                        3   \n",
       "PrincipalUse                                                        6   \n",
       "SaleInstrument                                                      3   \n",
       "AFForestLand                                                        N   \n",
       "AFCurrentUseLand                                                    N   \n",
       "AFNonProfitUse                                                      N   \n",
       "AFHistoricProperty                                                  N   \n",
       "SaleReason                                                          1   \n",
       "PropertyClass                                                       8   \n",
       "SaleWarning                                                             \n",
       "\n",
       "                                                                    4  \n",
       "ExciseTaxNbr                                                  1701215  \n",
       "Major                                                          235930  \n",
       "Minor                                                              72  \n",
       "DocumentDate                                               07/08/1999  \n",
       "SalePrice                                                      225000  \n",
       "RecordingNbr                                           19990730000822  \n",
       "Volume                                                                 \n",
       "Page                                                                   \n",
       "PlatNbr                                                                \n",
       "PlatType                                                               \n",
       "PlatLot                                                                \n",
       "PlatBlock                                                              \n",
       "SellerName          LACALLI THURSTON CASTLE ET AL                 ...  \n",
       "BuyerName           DONNEN JAMES W                                ...  \n",
       "PropertyType                                                        3  \n",
       "PrincipalUse                                                        6  \n",
       "SaleInstrument                                                      3  \n",
       "AFForestLand                                                        N  \n",
       "AFCurrentUseLand                                                    N  \n",
       "AFNonProfitUse                                                      N  \n",
       "AFHistoricProperty                                                  N  \n",
       "SaleReason                                                          1  \n",
       "PropertyClass                                                       8  \n",
       "SaleWarning                                                            "
      ]
     },
     "execution_count": 6,
     "metadata": {},
     "output_type": "execute_result"
    }
   ],
   "source": [
    "sales_df.head().T"
   ]
  },
  {
   "cell_type": "code",
   "execution_count": 7,
   "metadata": {},
   "outputs": [
    {
     "data": {
      "text/plain": [
       "Index(['ExciseTaxNbr', 'Major ', 'Minor ', 'DocumentDate', 'SalePrice ',\n",
       "       'RecordingNbr  ', 'Volume', 'Page', 'PlatNbr', 'PlatType',\n",
       "       'PlatLot       ', 'PlatBlock', 'SellerName', 'BuyerName',\n",
       "       'PropertyType', 'PrincipalUse', 'SaleInstrument', 'AFForestLand',\n",
       "       'AFCurrentUseLand', 'AFNonProfitUse', 'AFHistoricProperty',\n",
       "       'SaleReason', 'PropertyClass', 'SaleWarning'],\n",
       "      dtype='object')"
      ]
     },
     "execution_count": 7,
     "metadata": {},
     "output_type": "execute_result"
    }
   ],
   "source": [
    "sales_df.columns"
   ]
  },
  {
   "cell_type": "code",
   "execution_count": null,
   "metadata": {},
   "outputs": [],
   "source": [
    "# df = df.rename(columns={'oldName1': 'newName1', 'oldName2': 'newName2'})"
   ]
  },
  {
   "cell_type": "code",
   "execution_count": 8,
   "metadata": {},
   "outputs": [],
   "source": [
    "# fixing columns name \n",
    "sales_df = sales_df.rename(columns={'Major ': 'Major', 'Minor ': 'Minor', 'SalePrice ': 'SalePrice'})"
   ]
  },
  {
   "cell_type": "code",
   "execution_count": 10,
   "metadata": {},
   "outputs": [],
   "source": [
    "sales_df = sales_df[['Major', 'Minor', 'DocumentDate', 'SalePrice']]"
   ]
  },
  {
   "cell_type": "code",
   "execution_count": 12,
   "metadata": {},
   "outputs": [
    {
     "data": {
      "text/html": [
       "<div>\n",
       "<style scoped>\n",
       "    .dataframe tbody tr th:only-of-type {\n",
       "        vertical-align: middle;\n",
       "    }\n",
       "\n",
       "    .dataframe tbody tr th {\n",
       "        vertical-align: top;\n",
       "    }\n",
       "\n",
       "    .dataframe thead th {\n",
       "        text-align: right;\n",
       "    }\n",
       "</style>\n",
       "<table border=\"1\" class=\"dataframe\">\n",
       "  <thead>\n",
       "    <tr style=\"text-align: right;\">\n",
       "      <th></th>\n",
       "      <th>Major</th>\n",
       "      <th>Minor</th>\n",
       "      <th>DocumentDate</th>\n",
       "      <th>SalePrice</th>\n",
       "    </tr>\n",
       "  </thead>\n",
       "  <tbody>\n",
       "    <tr>\n",
       "      <th>0</th>\n",
       "      <td>720319</td>\n",
       "      <td>520</td>\n",
       "      <td>11/20/2013</td>\n",
       "      <td>699950.0</td>\n",
       "    </tr>\n",
       "    <tr>\n",
       "      <th>1</th>\n",
       "      <td>154580</td>\n",
       "      <td>1220</td>\n",
       "      <td>06/16/1994</td>\n",
       "      <td>125000.0</td>\n",
       "    </tr>\n",
       "    <tr>\n",
       "      <th>2</th>\n",
       "      <td>356730</td>\n",
       "      <td>45</td>\n",
       "      <td>06/09/2011</td>\n",
       "      <td>542200.0</td>\n",
       "    </tr>\n",
       "    <tr>\n",
       "      <th>3</th>\n",
       "      <td>252505</td>\n",
       "      <td>9206</td>\n",
       "      <td>06/25/2003</td>\n",
       "      <td>443000.0</td>\n",
       "    </tr>\n",
       "    <tr>\n",
       "      <th>4</th>\n",
       "      <td>235930</td>\n",
       "      <td>72</td>\n",
       "      <td>07/08/1999</td>\n",
       "      <td>225000.0</td>\n",
       "    </tr>\n",
       "  </tbody>\n",
       "</table>\n",
       "</div>"
      ],
      "text/plain": [
       "    Major Minor DocumentDate  SalePrice\n",
       "0  720319   520   11/20/2013   699950.0\n",
       "1  154580  1220   06/16/1994   125000.0\n",
       "2  356730    45   06/09/2011   542200.0\n",
       "3  252505  9206   06/25/2003   443000.0\n",
       "4  235930    72   07/08/1999   225000.0"
      ]
     },
     "execution_count": 12,
     "metadata": {},
     "output_type": "execute_result"
    }
   ],
   "source": [
    "sales_df.head()"
   ]
  },
  {
   "cell_type": "code",
   "execution_count": 86,
   "metadata": {},
   "outputs": [
    {
     "data": {
      "text/html": [
       "<div>\n",
       "<style scoped>\n",
       "    .dataframe tbody tr th:only-of-type {\n",
       "        vertical-align: middle;\n",
       "    }\n",
       "\n",
       "    .dataframe tbody tr th {\n",
       "        vertical-align: top;\n",
       "    }\n",
       "\n",
       "    .dataframe thead th {\n",
       "        text-align: right;\n",
       "    }\n",
       "</style>\n",
       "<table border=\"1\" class=\"dataframe\">\n",
       "  <thead>\n",
       "    <tr style=\"text-align: right;\">\n",
       "      <th></th>\n",
       "      <th>SalePrice</th>\n",
       "    </tr>\n",
       "  </thead>\n",
       "  <tbody>\n",
       "    <tr>\n",
       "      <th>count</th>\n",
       "      <td>2.033420e+06</td>\n",
       "    </tr>\n",
       "    <tr>\n",
       "      <th>mean</th>\n",
       "      <td>5.925071e+05</td>\n",
       "    </tr>\n",
       "    <tr>\n",
       "      <th>std</th>\n",
       "      <td>6.009803e+06</td>\n",
       "    </tr>\n",
       "    <tr>\n",
       "      <th>min</th>\n",
       "      <td>-6.000000e+02</td>\n",
       "    </tr>\n",
       "    <tr>\n",
       "      <th>25%</th>\n",
       "      <td>0.000000e+00</td>\n",
       "    </tr>\n",
       "    <tr>\n",
       "      <th>50%</th>\n",
       "      <td>1.500000e+05</td>\n",
       "    </tr>\n",
       "    <tr>\n",
       "      <th>75%</th>\n",
       "      <td>3.500000e+05</td>\n",
       "    </tr>\n",
       "    <tr>\n",
       "      <th>max</th>\n",
       "      <td>7.398850e+08</td>\n",
       "    </tr>\n",
       "  </tbody>\n",
       "</table>\n",
       "</div>"
      ],
      "text/plain": [
       "          SalePrice\n",
       "count  2.033420e+06\n",
       "mean   5.925071e+05\n",
       "std    6.009803e+06\n",
       "min   -6.000000e+02\n",
       "25%    0.000000e+00\n",
       "50%    1.500000e+05\n",
       "75%    3.500000e+05\n",
       "max    7.398850e+08"
      ]
     },
     "execution_count": 86,
     "metadata": {},
     "output_type": "execute_result"
    }
   ],
   "source": [
    "sales_df.describe()"
   ]
  },
  {
   "cell_type": "code",
   "execution_count": 90,
   "metadata": {},
   "outputs": [
    {
     "data": {
      "text/plain": [
       "(2033421, 4)"
      ]
     },
     "execution_count": 90,
     "metadata": {},
     "output_type": "execute_result"
    }
   ],
   "source": []
  },
  {
   "cell_type": "code",
   "execution_count": null,
   "metadata": {},
   "outputs": [],
   "source": [
    "import numpy as np\n",
    "import matplotlib.pyplot as plt\n",
    "import statsmodels.api as sm\n",
    "from statsmodels.formula.api import ols\n",
    "%matplotlib inline\n",
    "\n",
    "print(\"Skew is:\", sales_df.SalePrice.skew())\n",
    "plt.hist(sales_df.SalePrice, color ='b')\n",
    "plt.show()"
   ]
  },
  {
   "cell_type": "code",
   "execution_count": null,
   "metadata": {},
   "outputs": [],
   "source": [
    "sales_df.plot.kde()"
   ]
  },
  {
   "cell_type": "code",
   "execution_count": null,
   "metadata": {},
   "outputs": [],
   "source": []
  }
 ],
 "metadata": {
  "kernelspec": {
   "display_name": "Python 3",
   "language": "python",
   "name": "python3"
  },
  "language_info": {
   "codemirror_mode": {
    "name": "ipython",
    "version": 3
   },
   "file_extension": ".py",
   "mimetype": "text/x-python",
   "name": "python",
   "nbconvert_exporter": "python",
   "pygments_lexer": "ipython3",
   "version": "3.7.0"
  }
 },
 "nbformat": 4,
 "nbformat_minor": 2
}
